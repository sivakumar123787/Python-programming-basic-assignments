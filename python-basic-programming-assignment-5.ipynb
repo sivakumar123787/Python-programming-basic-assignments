{
 "cells": [
  {
   "cell_type": "code",
   "execution_count": null,
   "id": "0ac0d978",
   "metadata": {},
   "outputs": [],
   "source": [
    "#Question-1\n",
    "\n",
    "write a python program to find LCM?"
   ]
  },
  {
   "cell_type": "code",
   "execution_count": 4,
   "id": "e596ad93",
   "metadata": {},
   "outputs": [
    {
     "name": "stdout",
     "output_type": "stream",
     "text": [
      "enter the a value23\n",
      "enter the b value45\n",
      "1035.0\n"
     ]
    }
   ],
   "source": [
    "#Answer-1\n",
    "def lcm(a,b):\n",
    "    m=a*b\n",
    "    while a!=0 and b!=0:\n",
    "        if a>b:\n",
    "            a=a%b\n",
    "        else:\n",
    "            b=b%a\n",
    "    return m/(a+b)\n",
    "a=int(input(\"enter the a value\"))\n",
    "b=int(input(\"enter the b value\"))\n",
    "print(lcm(a,b))"
   ]
  },
  {
   "cell_type": "code",
   "execution_count": null,
   "id": "57173578",
   "metadata": {},
   "outputs": [],
   "source": [
    "#Question-2\n",
    "\n",
    "Write a Python Program to Find HCF?"
   ]
  },
  {
   "cell_type": "code",
   "execution_count": 8,
   "id": "bf8663e3",
   "metadata": {},
   "outputs": [
    {
     "name": "stdout",
     "output_type": "stream",
     "text": [
      "The hcf is : 34\n"
     ]
    }
   ],
   "source": [
    "#Answer-2\n",
    "def hcf(a,b):\n",
    "    if a>b:\n",
    "        smaller=b\n",
    "    else:\n",
    "        smaller=a\n",
    "    for i in range(1,smaller+1):\n",
    "        if(a%i==0) and (b%i==0):\n",
    "            hcf=i\n",
    "    return hcf\n",
    "print(\"The hcf is :\",hcf(34,102))"
   ]
  },
  {
   "cell_type": "code",
   "execution_count": null,
   "id": "25e3a278",
   "metadata": {},
   "outputs": [],
   "source": [
    "#Question-3\n",
    "\n",
    "Write a Python Program to Convert Decimal to Binary, Octal and Hexadecimal?"
   ]
  },
  {
   "cell_type": "code",
   "execution_count": 9,
   "id": "0b80ca86",
   "metadata": {},
   "outputs": [
    {
     "name": "stdout",
     "output_type": "stream",
     "text": [
      "enter the number:34\n",
      "0b100010 0o42 0x22\n"
     ]
    }
   ],
   "source": [
    "#Answer-3\n",
    "num=int(input(\"enter the number:\"))\n",
    "a=bin(num)\n",
    "b=oct(num)\n",
    "c=hex(num)\n",
    "print(a,b,c)"
   ]
  },
  {
   "cell_type": "code",
   "execution_count": null,
   "id": "8b1c6c9c",
   "metadata": {},
   "outputs": [],
   "source": [
    "#Question-4\n",
    "\n",
    "Write a Python Program To Find ASCII value of a character?"
   ]
  },
  {
   "cell_type": "code",
   "execution_count": 3,
   "id": "6cfcf8ac",
   "metadata": {},
   "outputs": [
    {
     "name": "stdout",
     "output_type": "stream",
     "text": [
      "The ascii value is 115\n"
     ]
    }
   ],
   "source": [
    "#Answer-4\n",
    "c='s'\n",
    "print(\"The ascii value is\",ord(c))"
   ]
  },
  {
   "cell_type": "code",
   "execution_count": null,
   "id": "7b83bf1d",
   "metadata": {},
   "outputs": [],
   "source": [
    "#Question-5\n",
    "\n",
    "Write a Python Program to Make a Simple Calculator with 4 basic mathematical operations?"
   ]
  },
  {
   "cell_type": "code",
   "execution_count": 1,
   "id": "2d50485c",
   "metadata": {
    "scrolled": true
   },
   "outputs": [
    {
     "name": "stdout",
     "output_type": "stream",
     "text": [
      "Select operation.\n",
      "1.Add\n",
      "2.Subtract\n",
      "3.Multiply\n",
      "4.Divide\n",
      "Enter choice(1/2/3/4): 9\n",
      "Invalid Input\n",
      "Enter choice(1/2/3/4): 4\n",
      "Enter first number: 12\n",
      "Enter second number: 24\n",
      "12.0 / 24.0 = 0.5\n",
      "Let's do next calculation? (yes/no): yes\n",
      "Enter choice(1/2/3/4): 2\n",
      "Enter first number: 12\n",
      "Enter second number: 34\n",
      "12.0 - 34.0 = -22.0\n",
      "Let's do next calculation? (yes/no): no\n"
     ]
    }
   ],
   "source": [
    "#Answer-5\n",
    "# Program make a simple calculator\n",
    "\n",
    "# This function adds two numbers\n",
    "def add(x, y):\n",
    "    return x + y\n",
    "\n",
    "# This function subtracts two numbers\n",
    "def subtract(x, y):\n",
    "    return x - y\n",
    "\n",
    "# This function multiplies two numbers\n",
    "def multiply(x, y):\n",
    "    return x * y\n",
    "\n",
    "# This function divides two numbers\n",
    "def divide(x, y):\n",
    "    return x / y\n",
    "\n",
    "\n",
    "print(\"Select operation.\")\n",
    "print(\"1.Add\")\n",
    "print(\"2.Subtract\")\n",
    "print(\"3.Multiply\")\n",
    "print(\"4.Divide\")\n",
    "\n",
    "while True:\n",
    "    # take input from the user\n",
    "    choice = input(\"Enter choice(1/2/3/4): \")\n",
    "\n",
    "    # check if choice is one of the four options\n",
    "    if choice in ('1', '2', '3', '4'):\n",
    "        num1 = float(input(\"Enter first number: \"))\n",
    "        num2 = float(input(\"Enter second number: \"))\n",
    "\n",
    "        if choice == '1':\n",
    "            print(num1, \"+\", num2, \"=\", add(num1, num2))\n",
    "\n",
    "        elif choice == '2':\n",
    "            print(num1, \"-\", num2, \"=\", subtract(num1, num2))\n",
    "\n",
    "        elif choice == '3':\n",
    "            print(num1, \"*\", num2, \"=\", multiply(num1, num2))\n",
    "\n",
    "        elif choice == '4':\n",
    "            print(num1, \"/\", num2, \"=\", divide(num1, num2))\n",
    "        \n",
    "        # check if user wants another calculation\n",
    "        # break the while loop if answer is no\n",
    "        next_calculation = input(\"Let's do next calculation? (yes/no): \")\n",
    "        if next_calculation == \"no\":\n",
    "          break\n",
    "    \n",
    "    else:\n",
    "        print(\"Invalid Input\")"
   ]
  },
  {
   "cell_type": "code",
   "execution_count": null,
   "id": "d33f0cb2",
   "metadata": {},
   "outputs": [],
   "source": []
  },
  {
   "cell_type": "code",
   "execution_count": null,
   "id": "a0fd20cc",
   "metadata": {},
   "outputs": [],
   "source": []
  }
 ],
 "metadata": {
  "kernelspec": {
   "display_name": "Python 3 (ipykernel)",
   "language": "python",
   "name": "python3"
  },
  "language_info": {
   "codemirror_mode": {
    "name": "ipython",
    "version": 3
   },
   "file_extension": ".py",
   "mimetype": "text/x-python",
   "name": "python",
   "nbconvert_exporter": "python",
   "pygments_lexer": "ipython3",
   "version": "3.9.7"
  }
 },
 "nbformat": 4,
 "nbformat_minor": 5
}
