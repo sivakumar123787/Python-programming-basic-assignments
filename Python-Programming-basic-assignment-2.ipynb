{
 "cells": [
  {
   "cell_type": "code",
   "execution_count": null,
   "id": "816f0b84",
   "metadata": {},
   "outputs": [],
   "source": [
    "#Question-1\n",
    "Write a Python program to convert kilometers to miles?"
   ]
  },
  {
   "cell_type": "code",
   "execution_count": 2,
   "id": "684f09b0",
   "metadata": {},
   "outputs": [
    {
     "name": "stdout",
     "output_type": "stream",
     "text": [
      "enter the kilometers34\n",
      "after converting kilometers into miles : 22.666666666666664\n"
     ]
    }
   ],
   "source": [
    "#Answer-1\n",
    "kilometer=int(input(\"enter the kilometers\"))\n",
    "conv_fac=2/3\n",
    "miles=conv_fac*kilometer\n",
    "print(\"after converting kilometers into miles :\",miles)"
   ]
  },
  {
   "cell_type": "code",
   "execution_count": null,
   "id": "091c338b",
   "metadata": {},
   "outputs": [],
   "source": [
    "#Question-2\n",
    "Write a Python program to convert Celsius to Fahrenheit?"
   ]
  },
  {
   "cell_type": "code",
   "execution_count": 3,
   "id": "20817c8d",
   "metadata": {},
   "outputs": [
    {
     "name": "stdout",
     "output_type": "stream",
     "text": [
      "enter the temperature78\n",
      "172.4\n"
     ]
    }
   ],
   "source": [
    "#Answer-2\n",
    "celsius=int(input(\"enter the temperature\"))\n",
    "fahrenheat=(celsius*1.8)+32\n",
    "print(fahrenheat)"
   ]
  },
  {
   "cell_type": "code",
   "execution_count": null,
   "id": "bfb940aa",
   "metadata": {},
   "outputs": [],
   "source": [
    "#Question-3\n",
    "Write a Python program to display calendar?"
   ]
  },
  {
   "cell_type": "code",
   "execution_count": 14,
   "id": "1946ae2d",
   "metadata": {},
   "outputs": [
    {
     "name": "stdout",
     "output_type": "stream",
     "text": [
      "      May 2021\n",
      "Mo Tu We Th Fr Sa Su\n",
      "                1  2\n",
      " 3  4  5  6  7  8  9\n",
      "10 11 12 13 14 15 16\n",
      "17 18 19 20 21 22 23\n",
      "24 25 26 27 28 29 30\n",
      "31\n",
      "\n"
     ]
    }
   ],
   "source": [
    "#Answer-3\n",
    "import calendar\n",
    "yy=2021\n",
    "month=5\n",
    "print(calendar.month(yy,month))"
   ]
  },
  {
   "cell_type": "code",
   "execution_count": 16,
   "id": "718f5647",
   "metadata": {},
   "outputs": [],
   "source": [
    "#Question-4\n",
    "Write a Python program to solve quadratic equation?"
   ]
  },
  {
   "cell_type": "code",
   "execution_count": 18,
   "id": "349dc3f7",
   "metadata": {},
   "outputs": [
    {
     "name": "stdout",
     "output_type": "stream",
     "text": [
      "The solution are(-2-1j) and (-2+1j) :\n"
     ]
    }
   ],
   "source": [
    "#Answer-4\n",
    "import cmath\n",
    "a=1\n",
    "b=4\n",
    "c=5\n",
    "d=(b**2)-(4*a*c)\n",
    "sol1=(-b-cmath.sqrt(d))/(2*a)\n",
    "sol2=(-b+cmath.sqrt(d))/(2*a)\n",
    "print(\"The solution are{0} and {1} :\".format(sol1,sol2))"
   ]
  },
  {
   "cell_type": "code",
   "execution_count": null,
   "id": "fba690c7",
   "metadata": {},
   "outputs": [],
   "source": [
    "#Question-5\n",
    "Write a Python program to swap two variables without temp variable?"
   ]
  },
  {
   "cell_type": "code",
   "execution_count": 19,
   "id": "ea324979",
   "metadata": {},
   "outputs": [
    {
     "name": "stdout",
     "output_type": "stream",
     "text": [
      "4\n",
      "5\n",
      "before swap: 4 5\n",
      "After swap: 5 4\n"
     ]
    }
   ],
   "source": [
    "#Answer-5\n",
    "a=int(input())\n",
    "b=int(input())\n",
    "print(\"before swap:\",a,b)\n",
    "a,b=b,a\n",
    "print(\"After swap:\",a,b)\n"
   ]
  },
  {
   "cell_type": "code",
   "execution_count": 22,
   "id": "ba0a0e4b",
   "metadata": {},
   "outputs": [
    {
     "name": "stdout",
     "output_type": "stream",
     "text": [
      "7\n",
      "9\n",
      "before swap: 7 9\n",
      "After swap: 9 7\n"
     ]
    }
   ],
   "source": [
    "#Answer-5\n",
    "x=int(input())\n",
    "y=int(input())\n",
    "print(\"before swap:\",x,y)\n",
    "x=x+y\n",
    "y=x-y\n",
    "x=x-y\n",
    "print(\"After swap:\",x,y)"
   ]
  },
  {
   "cell_type": "code",
   "execution_count": null,
   "id": "9ac3e29d",
   "metadata": {},
   "outputs": [],
   "source": []
  },
  {
   "cell_type": "code",
   "execution_count": null,
   "id": "6f692b6a",
   "metadata": {},
   "outputs": [],
   "source": []
  }
 ],
 "metadata": {
  "kernelspec": {
   "display_name": "Python 3 (ipykernel)",
   "language": "python",
   "name": "python3"
  },
  "language_info": {
   "codemirror_mode": {
    "name": "ipython",
    "version": 3
   },
   "file_extension": ".py",
   "mimetype": "text/x-python",
   "name": "python",
   "nbconvert_exporter": "python",
   "pygments_lexer": "ipython3",
   "version": "3.9.7"
  }
 },
 "nbformat": 4,
 "nbformat_minor": 5
}
