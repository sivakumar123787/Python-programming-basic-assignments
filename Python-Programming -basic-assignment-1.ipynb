{
 "cells": [
  {
   "cell_type": "code",
   "execution_count": 1,
   "id": "0b845fe3",
   "metadata": {},
   "outputs": [
    {
     "name": "stdout",
     "output_type": "stream",
     "text": [
      "Object `Python` not found.\n"
     ]
    }
   ],
   "source": [
    "# Question-1\n",
    "Write a Python program to print Hello Python?"
   ]
  },
  {
   "cell_type": "code",
   "execution_count": 2,
   "id": "1aafaa58",
   "metadata": {},
   "outputs": [
    {
     "name": "stdout",
     "output_type": "stream",
     "text": [
      "Hello Python\n"
     ]
    }
   ],
   "source": [
    "#Answer-1\n",
    "print(\"Hello Python\")"
   ]
  },
  {
   "cell_type": "code",
   "execution_count": 4,
   "id": "84f57af7",
   "metadata": {},
   "outputs": [],
   "source": [
    "#Question-2\n",
    "Write a Python program to do arithmetical operations addition and division.?"
   ]
  },
  {
   "cell_type": "code",
   "execution_count": 5,
   "id": "fd8f75c4",
   "metadata": {},
   "outputs": [
    {
     "name": "stdout",
     "output_type": "stream",
     "text": [
      "enter the a A value23\n",
      "Enter the B value45\n",
      "Addition of a,b is:  68\n",
      "Subtraction of a and b is:  -22\n",
      "Multiple of a and b is : 1035\n",
      "Division of  a and b is: 0.5111111111111111\n"
     ]
    }
   ],
   "source": [
    "#Answer-2\n",
    "a=int(input(\"enter the a A value\"))\n",
    "b=int(input(\"Enter the B value\"))\n",
    "c=a+b\n",
    "d=a-b\n",
    "e=a*b\n",
    "f=a/b\n",
    "print(\"Addition of a,b is: \",c)\n",
    "print(\"Subtraction of a and b is: \",d)\n",
    "print(\"Multiple of a and b is :\",e)\n",
    "print(\"Division of  a and b is:\",f)"
   ]
  },
  {
   "cell_type": "code",
   "execution_count": null,
   "id": "3d8b33aa",
   "metadata": {},
   "outputs": [],
   "source": [
    "#Question-3\n",
    "Write a Python program to find the area of a triangle?"
   ]
  },
  {
   "cell_type": "code",
   "execution_count": 6,
   "id": "5f0d74d5",
   "metadata": {},
   "outputs": [
    {
     "name": "stdout",
     "output_type": "stream",
     "text": [
      "enter the height:23\n",
      "enter the base:46\n",
      "Area of the triangle is : 529.0\n"
     ]
    }
   ],
   "source": [
    "#Answer-3\n",
    "#We need two parameters to find the area of the triangle\n",
    "#height and base\n",
    "height=int(input(\"enter the height:\"))\n",
    "base=int(input(\"enter the base:\"))\n",
    "area=height*base/2\n",
    "print(\"Area of the triangle is :\",area)"
   ]
  },
  {
   "cell_type": "code",
   "execution_count": null,
   "id": "c1ec8845",
   "metadata": {},
   "outputs": [],
   "source": [
    "#Question-4\n",
    "Write a Python program to swap two variables?"
   ]
  },
  {
   "cell_type": "code",
   "execution_count": 7,
   "id": "d79c8b72",
   "metadata": {},
   "outputs": [
    {
     "name": "stdout",
     "output_type": "stream",
     "text": [
      "2\n",
      "3\n",
      "Before swap: 2 3\n",
      "After swap: 3 2\n"
     ]
    }
   ],
   "source": [
    "#Answer-4\n",
    "x=int(input())\n",
    "y=int(input())\n",
    "print(\"Before swap:\",x,y)\n",
    "temp=y\n",
    "y=x\n",
    "x=temp\n",
    "print(\"After swap:\",x,y)"
   ]
  },
  {
   "cell_type": "code",
   "execution_count": 8,
   "id": "8aed1637",
   "metadata": {},
   "outputs": [
    {
     "name": "stdout",
     "output_type": "stream",
     "text": [
      "2\n",
      "3\n",
      "Before swap: 2 3\n",
      "After swap: 3 2\n"
     ]
    }
   ],
   "source": [
    "#Answer-4\n",
    "x=int(input())\n",
    "y=int(input())\n",
    "print(\"Before swap:\",x,y)\n",
    "x,y=y,x\n",
    "print(\"After swap:\",x,y)"
   ]
  },
  {
   "cell_type": "code",
   "execution_count": null,
   "id": "ee8a2fc7",
   "metadata": {},
   "outputs": [],
   "source": [
    "#Question-5\n",
    "Write a Python program to generate a random number?"
   ]
  },
  {
   "cell_type": "code",
   "execution_count": 15,
   "id": "655083d4",
   "metadata": {},
   "outputs": [
    {
     "name": "stdout",
     "output_type": "stream",
     "text": [
      "Enter the number:45\n",
      "7\n",
      "11\n"
     ]
    }
   ],
   "source": [
    "#Answer-5\n",
    "import random\n",
    "num=int(input(\"Enter the number:\"))\n",
    "print(random.randint(1,num))\n",
    "print(random.randint(1,num))"
   ]
  },
  {
   "cell_type": "code",
   "execution_count": null,
   "id": "c84da254",
   "metadata": {},
   "outputs": [],
   "source": []
  },
  {
   "cell_type": "code",
   "execution_count": null,
   "id": "dd1ccbec",
   "metadata": {},
   "outputs": [],
   "source": []
  },
  {
   "cell_type": "code",
   "execution_count": null,
   "id": "8f9a57d3",
   "metadata": {},
   "outputs": [],
   "source": []
  },
  {
   "cell_type": "code",
   "execution_count": null,
   "id": "5410fc4c",
   "metadata": {},
   "outputs": [],
   "source": []
  }
 ],
 "metadata": {
  "kernelspec": {
   "display_name": "Python 3 (ipykernel)",
   "language": "python",
   "name": "python3"
  },
  "language_info": {
   "codemirror_mode": {
    "name": "ipython",
    "version": 3
   },
   "file_extension": ".py",
   "mimetype": "text/x-python",
   "name": "python",
   "nbconvert_exporter": "python",
   "pygments_lexer": "ipython3",
   "version": "3.9.7"
  }
 },
 "nbformat": 4,
 "nbformat_minor": 5
}
