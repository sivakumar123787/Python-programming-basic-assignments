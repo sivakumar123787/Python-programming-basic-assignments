{
 "cells": [
  {
   "cell_type": "code",
   "execution_count": null,
   "id": "7b4ea598",
   "metadata": {},
   "outputs": [],
   "source": [
    "#Question-1\n",
    "#Write a Python Program to Display Fibonacci Sequence Using Recursion?"
   ]
  },
  {
   "cell_type": "code",
   "execution_count": 1,
   "id": "5ce46c4c",
   "metadata": {},
   "outputs": [
    {
     "name": "stdout",
     "output_type": "stream",
     "text": [
      "6\n",
      "0\n",
      "1\n",
      "1\n",
      "2\n",
      "3\n",
      "5\n"
     ]
    }
   ],
   "source": [
    "#Answer-1\n",
    "def fiba(n):\n",
    "    if n<=1:\n",
    "        return n\n",
    "    else:\n",
    "        return(fiba(n-1)+fiba(n-2))\n",
    "n=int(input(\"enter the number:\"))\n",
    "if n<=0:\n",
    "    print(\"enter a positive number.\")\n",
    "else:\n",
    "    for i in range(n):\n",
    "        print(fiba(i))"
   ]
  },
  {
   "cell_type": "code",
   "execution_count": null,
   "id": "5711eb3a",
   "metadata": {},
   "outputs": [],
   "source": [
    "#Question-2\n",
    "Write a Python Program to Find Factorial of Number Using Recursion?"
   ]
  },
  {
   "cell_type": "code",
   "execution_count": 2,
   "id": "162de337",
   "metadata": {},
   "outputs": [
    {
     "name": "stdout",
     "output_type": "stream",
     "text": [
      "enter the number:5\n",
      "the factorial of the  5 is : 120\n"
     ]
    }
   ],
   "source": [
    "#Answer-2\n",
    "def fact(n):\n",
    "    if n==1 :\n",
    "        return n\n",
    "    else:\n",
    "        return n*fact(n-1)\n",
    "n=int(input(\"enter the number:\"))\n",
    "if n<=0:\n",
    "    print(\"factorial does not exists\")\n",
    "elif n==0:\n",
    "    print(\"the factorial of 0 is 1\")\n",
    "else:\n",
    "    print(\"the factorial of the \",n,\"is :\",fact(n))\n",
    "        "
   ]
  },
  {
   "cell_type": "code",
   "execution_count": null,
   "id": "2b815b34",
   "metadata": {},
   "outputs": [],
   "source": [
    "#Question-3\n",
    "#Write a Python Program to calculate your Body Mass Index?"
   ]
  },
  {
   "cell_type": "code",
   "execution_count": 9,
   "id": "bc3d09d0",
   "metadata": {},
   "outputs": [
    {
     "name": "stdout",
     "output_type": "stream",
     "text": [
      "enter the weight to check BMI :108\n",
      "enter the height :182\n",
      "The BMI is: 32.60475787948315\n",
      "your weight status is Obese\n"
     ]
    }
   ],
   "source": [
    "#Answer-3\n",
    "weight=float(input(\"enter the weight to check BMI :\"))\n",
    "height=float(input(\"enter the height :\"))\n",
    "bmi=weight/(height/100)**2\n",
    "print(\"The BMI is:\",bmi)\n",
    "if bmi<18.5:\n",
    "    print(\"your weight status is underweight\")\n",
    "elif 18.5>bmi<24.9:\n",
    "    print(\"your weight status is Normal\")\n",
    "elif 25.0>bmi<29.9:\n",
    "    print(\"your weight status is Overweight\")\n",
    "else:\n",
    "    print(\"your weight status is Obese\")"
   ]
  },
  {
   "cell_type": "code",
   "execution_count": null,
   "id": "0cec3e1d",
   "metadata": {},
   "outputs": [],
   "source": [
    "#Question-4\n",
    "Write a Python Program to calculate the natural logarithm of any number?"
   ]
  },
  {
   "cell_type": "code",
   "execution_count": 19,
   "id": "a67a4adf",
   "metadata": {},
   "outputs": [
    {
     "name": "stdout",
     "output_type": "stream",
     "text": [
      "enter the number:456.980\n",
      "The log of  456.98 is 6.124639626260398\n"
     ]
    }
   ],
   "source": [
    "#Answer-4\n",
    "import math\n",
    "num=float(input(\"enter the number:\"))\n",
    "print(\"The log of \",num,\"is\",math.log(num))\n"
   ]
  },
  {
   "cell_type": "code",
   "execution_count": null,
   "id": "2ba76f52",
   "metadata": {},
   "outputs": [],
   "source": [
    "#Question-5\n",
    "Write a Python Program for cube sum of first n natural numbers?"
   ]
  },
  {
   "cell_type": "code",
   "execution_count": 25,
   "id": "64cfbace",
   "metadata": {},
   "outputs": [
    {
     "name": "stdout",
     "output_type": "stream",
     "text": [
      "enter the number:3\n",
      "the cube of 3 is 36\n"
     ]
    }
   ],
   "source": [
    "#Answer-5\n",
    "def sumofseries(n):\n",
    "    sum=0\n",
    "    for i in range(1,n+1):\n",
    "        sum+=i*i*i\n",
    "    return sum\n",
    "num=int(input(\"enter the number:\"))\n",
    "print(\"the cube of\",n,\"is\",sumofseries(n))\n"
   ]
  },
  {
   "cell_type": "code",
   "execution_count": null,
   "id": "4b4e674e",
   "metadata": {},
   "outputs": [],
   "source": []
  },
  {
   "cell_type": "code",
   "execution_count": null,
   "id": "5b4a37d7",
   "metadata": {},
   "outputs": [],
   "source": []
  }
 ],
 "metadata": {
  "kernelspec": {
   "display_name": "Python 3 (ipykernel)",
   "language": "python",
   "name": "python3"
  },
  "language_info": {
   "codemirror_mode": {
    "name": "ipython",
    "version": 3
   },
   "file_extension": ".py",
   "mimetype": "text/x-python",
   "name": "python",
   "nbconvert_exporter": "python",
   "pygments_lexer": "ipython3",
   "version": "3.9.7"
  }
 },
 "nbformat": 4,
 "nbformat_minor": 5
}
